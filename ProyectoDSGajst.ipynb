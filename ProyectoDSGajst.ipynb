{
  "nbformat": 4,
  "nbformat_minor": 0,
  "metadata": {
    "colab": {
      "provenance": [],
      "authorship_tag": "ABX9TyMoQ9/2gByTXIuHltr02GFQ",
      "include_colab_link": true
    },
    "kernelspec": {
      "name": "python3",
      "display_name": "Python 3"
    },
    "language_info": {
      "name": "python"
    }
  },
  "cells": [
    {
      "cell_type": "markdown",
      "metadata": {
        "id": "view-in-github",
        "colab_type": "text"
      },
      "source": [
        "<a href=\"https://colab.research.google.com/github/mgajst/datascience1/blob/main/ProyectoDSGajst.ipynb\" target=\"_parent\"><img src=\"https://colab.research.google.com/assets/colab-badge.svg\" alt=\"Open In Colab\"/></a>"
      ]
    },
    {
      "cell_type": "code",
      "execution_count": null,
      "metadata": {
        "colab": {
          "base_uri": "https://localhost:8080/",
          "height": 74
        },
        "id": "VAs_re7F5Syt",
        "outputId": "2365dcd5-8938-4864-d198-170d9ea2687e"
      },
      "outputs": [
        {
          "output_type": "display_data",
          "data": {
            "text/plain": [
              "<IPython.core.display.HTML object>"
            ],
            "text/html": [
              "\n",
              "     <input type=\"file\" id=\"files-8f6e1338-2410-49f5-bf92-3cb1e543360b\" name=\"files[]\" multiple disabled\n",
              "        style=\"border:none\" />\n",
              "     <output id=\"result-8f6e1338-2410-49f5-bf92-3cb1e543360b\">\n",
              "      Upload widget is only available when the cell has been executed in the\n",
              "      current browser session. Please rerun this cell to enable.\n",
              "      </output>\n",
              "      <script>// Copyright 2017 Google LLC\n",
              "//\n",
              "// Licensed under the Apache License, Version 2.0 (the \"License\");\n",
              "// you may not use this file except in compliance with the License.\n",
              "// You may obtain a copy of the License at\n",
              "//\n",
              "//      http://www.apache.org/licenses/LICENSE-2.0\n",
              "//\n",
              "// Unless required by applicable law or agreed to in writing, software\n",
              "// distributed under the License is distributed on an \"AS IS\" BASIS,\n",
              "// WITHOUT WARRANTIES OR CONDITIONS OF ANY KIND, either express or implied.\n",
              "// See the License for the specific language governing permissions and\n",
              "// limitations under the License.\n",
              "\n",
              "/**\n",
              " * @fileoverview Helpers for google.colab Python module.\n",
              " */\n",
              "(function(scope) {\n",
              "function span(text, styleAttributes = {}) {\n",
              "  const element = document.createElement('span');\n",
              "  element.textContent = text;\n",
              "  for (const key of Object.keys(styleAttributes)) {\n",
              "    element.style[key] = styleAttributes[key];\n",
              "  }\n",
              "  return element;\n",
              "}\n",
              "\n",
              "// Max number of bytes which will be uploaded at a time.\n",
              "const MAX_PAYLOAD_SIZE = 100 * 1024;\n",
              "\n",
              "function _uploadFiles(inputId, outputId) {\n",
              "  const steps = uploadFilesStep(inputId, outputId);\n",
              "  const outputElement = document.getElementById(outputId);\n",
              "  // Cache steps on the outputElement to make it available for the next call\n",
              "  // to uploadFilesContinue from Python.\n",
              "  outputElement.steps = steps;\n",
              "\n",
              "  return _uploadFilesContinue(outputId);\n",
              "}\n",
              "\n",
              "// This is roughly an async generator (not supported in the browser yet),\n",
              "// where there are multiple asynchronous steps and the Python side is going\n",
              "// to poll for completion of each step.\n",
              "// This uses a Promise to block the python side on completion of each step,\n",
              "// then passes the result of the previous step as the input to the next step.\n",
              "function _uploadFilesContinue(outputId) {\n",
              "  const outputElement = document.getElementById(outputId);\n",
              "  const steps = outputElement.steps;\n",
              "\n",
              "  const next = steps.next(outputElement.lastPromiseValue);\n",
              "  return Promise.resolve(next.value.promise).then((value) => {\n",
              "    // Cache the last promise value to make it available to the next\n",
              "    // step of the generator.\n",
              "    outputElement.lastPromiseValue = value;\n",
              "    return next.value.response;\n",
              "  });\n",
              "}\n",
              "\n",
              "/**\n",
              " * Generator function which is called between each async step of the upload\n",
              " * process.\n",
              " * @param {string} inputId Element ID of the input file picker element.\n",
              " * @param {string} outputId Element ID of the output display.\n",
              " * @return {!Iterable<!Object>} Iterable of next steps.\n",
              " */\n",
              "function* uploadFilesStep(inputId, outputId) {\n",
              "  const inputElement = document.getElementById(inputId);\n",
              "  inputElement.disabled = false;\n",
              "\n",
              "  const outputElement = document.getElementById(outputId);\n",
              "  outputElement.innerHTML = '';\n",
              "\n",
              "  const pickedPromise = new Promise((resolve) => {\n",
              "    inputElement.addEventListener('change', (e) => {\n",
              "      resolve(e.target.files);\n",
              "    });\n",
              "  });\n",
              "\n",
              "  const cancel = document.createElement('button');\n",
              "  inputElement.parentElement.appendChild(cancel);\n",
              "  cancel.textContent = 'Cancel upload';\n",
              "  const cancelPromise = new Promise((resolve) => {\n",
              "    cancel.onclick = () => {\n",
              "      resolve(null);\n",
              "    };\n",
              "  });\n",
              "\n",
              "  // Wait for the user to pick the files.\n",
              "  const files = yield {\n",
              "    promise: Promise.race([pickedPromise, cancelPromise]),\n",
              "    response: {\n",
              "      action: 'starting',\n",
              "    }\n",
              "  };\n",
              "\n",
              "  cancel.remove();\n",
              "\n",
              "  // Disable the input element since further picks are not allowed.\n",
              "  inputElement.disabled = true;\n",
              "\n",
              "  if (!files) {\n",
              "    return {\n",
              "      response: {\n",
              "        action: 'complete',\n",
              "      }\n",
              "    };\n",
              "  }\n",
              "\n",
              "  for (const file of files) {\n",
              "    const li = document.createElement('li');\n",
              "    li.append(span(file.name, {fontWeight: 'bold'}));\n",
              "    li.append(span(\n",
              "        `(${file.type || 'n/a'}) - ${file.size} bytes, ` +\n",
              "        `last modified: ${\n",
              "            file.lastModifiedDate ? file.lastModifiedDate.toLocaleDateString() :\n",
              "                                    'n/a'} - `));\n",
              "    const percent = span('0% done');\n",
              "    li.appendChild(percent);\n",
              "\n",
              "    outputElement.appendChild(li);\n",
              "\n",
              "    const fileDataPromise = new Promise((resolve) => {\n",
              "      const reader = new FileReader();\n",
              "      reader.onload = (e) => {\n",
              "        resolve(e.target.result);\n",
              "      };\n",
              "      reader.readAsArrayBuffer(file);\n",
              "    });\n",
              "    // Wait for the data to be ready.\n",
              "    let fileData = yield {\n",
              "      promise: fileDataPromise,\n",
              "      response: {\n",
              "        action: 'continue',\n",
              "      }\n",
              "    };\n",
              "\n",
              "    // Use a chunked sending to avoid message size limits. See b/62115660.\n",
              "    let position = 0;\n",
              "    do {\n",
              "      const length = Math.min(fileData.byteLength - position, MAX_PAYLOAD_SIZE);\n",
              "      const chunk = new Uint8Array(fileData, position, length);\n",
              "      position += length;\n",
              "\n",
              "      const base64 = btoa(String.fromCharCode.apply(null, chunk));\n",
              "      yield {\n",
              "        response: {\n",
              "          action: 'append',\n",
              "          file: file.name,\n",
              "          data: base64,\n",
              "        },\n",
              "      };\n",
              "\n",
              "      let percentDone = fileData.byteLength === 0 ?\n",
              "          100 :\n",
              "          Math.round((position / fileData.byteLength) * 100);\n",
              "      percent.textContent = `${percentDone}% done`;\n",
              "\n",
              "    } while (position < fileData.byteLength);\n",
              "  }\n",
              "\n",
              "  // All done.\n",
              "  yield {\n",
              "    response: {\n",
              "      action: 'complete',\n",
              "    }\n",
              "  };\n",
              "}\n",
              "\n",
              "scope.google = scope.google || {};\n",
              "scope.google.colab = scope.google.colab || {};\n",
              "scope.google.colab._files = {\n",
              "  _uploadFiles,\n",
              "  _uploadFilesContinue,\n",
              "};\n",
              "})(self);\n",
              "</script> "
            ]
          },
          "metadata": {}
        },
        {
          "output_type": "stream",
          "name": "stdout",
          "text": [
            "Saving productos claros.csv to productos claros.csv\n"
          ]
        }
      ],
      "source": [
        "from google.colab import files\n",
        "uploaded = files.upload()"
      ]
    },
    {
      "cell_type": "markdown",
      "source": [
        "El dataset se encuentra para descargar en https://drive.google.com/file/d/1mLnJ2-G0AyD9F3a_lHDWNc-QOmCoRAK7/view. No puedo subirlo a GitHub por límite de almacenamiento."
      ],
      "metadata": {
        "id": "B-kzPYeuvmGG"
      }
    },
    {
      "cell_type": "markdown",
      "source": [],
      "metadata": {
        "id": "ZWQoPTqvvwPC"
      }
    },
    {
      "cell_type": "markdown",
      "source": [
        "El conjunto de datos proviene del SEPA (Sistema Electrónico de Publicidad de Precios Argentinos) , también conocido como Precios Claros , una plataforma desarrollada por el gobierno nacional de Argentina.\n",
        "\n",
        "Contiene precios diarios de más de 70.000 productos.\n",
        "\n",
        "Incluye información como:\n",
        "\n",
        ")Código del producto ( id_producto)\n",
        "\n",
        "Descripción y marca\n",
        "\n",
        "Unidad de medida (ej: litros, gramos)\n",
        "\n",
        "Cantidad\n",
        "\n",
        "Precio de lista\n",
        "\n",
        "Precio por unidad de referencia\n",
        "\n",
        "Precios promocionales (si los hay)\n",
        "\n",
        "Identificadores del comercio, sucursal y bandera (cadena)\n",
        "\n",
        "\n"
      ],
      "metadata": {
        "id": "vwLyG1Zy_Ijj"
      }
    },
    {
      "cell_type": "code",
      "source": [],
      "metadata": {
        "id": "GqBLvj9zvlKn"
      },
      "execution_count": null,
      "outputs": []
    },
    {
      "cell_type": "code",
      "source": [
        "import pandas as pd\n",
        "\n",
        "df = pd.read_csv('productos claros.csv')\n",
        "\n",
        "df.head()"
      ],
      "metadata": {
        "colab": {
          "base_uri": "https://localhost:8080/",
          "height": 226
        },
        "id": "DMR4iQOJ7TWn",
        "outputId": "fb831400-08d2-4487-9e08-2d03a8b7ef96"
      },
      "execution_count": null,
      "outputs": [
        {
          "output_type": "execute_result",
          "data": {
            "text/plain": [
              "  id_comercio|id_bandera|id_sucursal|id_producto|productos_ean|productos_descripcion|productos_cantidad_presentacion|productos_unidad_medida_presentacion|productos_marca|productos_precio_lista|productos_precio_referencia|productos_cantidad_referencia|productos_unidad_medida_referencia|productos_precio_unitario_promo1|productos_leyenda_promo1|productos_precio_unitario_promo2|productos_leyenda_promo2\n",
              "0  10|1|63|7790770601899|1|TOALLA NOSOTRAS CLASIC...                                                                                                                                                                                                                                                                                                                                                             \n",
              "1  10|3|711|7790070318398|1|FIDEOS DEDALITOS LUCC...                                                                                                                                                                                                                                                                                                                                                             \n",
              "2  10|1|44|7622201808860|1|GALLETITAS BOCA DE DAM...                                                                                                                                                                                                                                                                                                                                                             \n",
              "3  10|2|62|7791293050089|1|ACONDICIONADOR LISO EF...                                                                                                                                                                                                                                                                                                                                                             \n",
              "4  10|1|2|7791720018088|1|ANANA EN RODAJAS BULNEZ...                                                                                                                                                                                                                                                                                                                                                             "
            ],
            "text/html": [
              "\n",
              "  <div id=\"df-71dfa0a5-5a2e-42e4-9465-29e6f4617ced\" class=\"colab-df-container\">\n",
              "    <div>\n",
              "<style scoped>\n",
              "    .dataframe tbody tr th:only-of-type {\n",
              "        vertical-align: middle;\n",
              "    }\n",
              "\n",
              "    .dataframe tbody tr th {\n",
              "        vertical-align: top;\n",
              "    }\n",
              "\n",
              "    .dataframe thead th {\n",
              "        text-align: right;\n",
              "    }\n",
              "</style>\n",
              "<table border=\"1\" class=\"dataframe\">\n",
              "  <thead>\n",
              "    <tr style=\"text-align: right;\">\n",
              "      <th></th>\n",
              "      <th>id_comercio|id_bandera|id_sucursal|id_producto|productos_ean|productos_descripcion|productos_cantidad_presentacion|productos_unidad_medida_presentacion|productos_marca|productos_precio_lista|productos_precio_referencia|productos_cantidad_referencia|productos_unidad_medida_referencia|productos_precio_unitario_promo1|productos_leyenda_promo1|productos_precio_unitario_promo2|productos_leyenda_promo2</th>\n",
              "    </tr>\n",
              "  </thead>\n",
              "  <tbody>\n",
              "    <tr>\n",
              "      <th>0</th>\n",
              "      <td>10|1|63|7790770601899|1|TOALLA NOSOTRAS CLASIC...</td>\n",
              "    </tr>\n",
              "    <tr>\n",
              "      <th>1</th>\n",
              "      <td>10|3|711|7790070318398|1|FIDEOS DEDALITOS LUCC...</td>\n",
              "    </tr>\n",
              "    <tr>\n",
              "      <th>2</th>\n",
              "      <td>10|1|44|7622201808860|1|GALLETITAS BOCA DE DAM...</td>\n",
              "    </tr>\n",
              "    <tr>\n",
              "      <th>3</th>\n",
              "      <td>10|2|62|7791293050089|1|ACONDICIONADOR LISO EF...</td>\n",
              "    </tr>\n",
              "    <tr>\n",
              "      <th>4</th>\n",
              "      <td>10|1|2|7791720018088|1|ANANA EN RODAJAS BULNEZ...</td>\n",
              "    </tr>\n",
              "  </tbody>\n",
              "</table>\n",
              "</div>\n",
              "    <div class=\"colab-df-buttons\">\n",
              "\n",
              "  <div class=\"colab-df-container\">\n",
              "    <button class=\"colab-df-convert\" onclick=\"convertToInteractive('df-71dfa0a5-5a2e-42e4-9465-29e6f4617ced')\"\n",
              "            title=\"Convert this dataframe to an interactive table.\"\n",
              "            style=\"display:none;\">\n",
              "\n",
              "  <svg xmlns=\"http://www.w3.org/2000/svg\" height=\"24px\" viewBox=\"0 -960 960 960\">\n",
              "    <path d=\"M120-120v-720h720v720H120Zm60-500h600v-160H180v160Zm220 220h160v-160H400v160Zm0 220h160v-160H400v160ZM180-400h160v-160H180v160Zm440 0h160v-160H620v160ZM180-180h160v-160H180v160Zm440 0h160v-160H620v160Z\"/>\n",
              "  </svg>\n",
              "    </button>\n",
              "\n",
              "  <style>\n",
              "    .colab-df-container {\n",
              "      display:flex;\n",
              "      gap: 12px;\n",
              "    }\n",
              "\n",
              "    .colab-df-convert {\n",
              "      background-color: #E8F0FE;\n",
              "      border: none;\n",
              "      border-radius: 50%;\n",
              "      cursor: pointer;\n",
              "      display: none;\n",
              "      fill: #1967D2;\n",
              "      height: 32px;\n",
              "      padding: 0 0 0 0;\n",
              "      width: 32px;\n",
              "    }\n",
              "\n",
              "    .colab-df-convert:hover {\n",
              "      background-color: #E2EBFA;\n",
              "      box-shadow: 0px 1px 2px rgba(60, 64, 67, 0.3), 0px 1px 3px 1px rgba(60, 64, 67, 0.15);\n",
              "      fill: #174EA6;\n",
              "    }\n",
              "\n",
              "    .colab-df-buttons div {\n",
              "      margin-bottom: 4px;\n",
              "    }\n",
              "\n",
              "    [theme=dark] .colab-df-convert {\n",
              "      background-color: #3B4455;\n",
              "      fill: #D2E3FC;\n",
              "    }\n",
              "\n",
              "    [theme=dark] .colab-df-convert:hover {\n",
              "      background-color: #434B5C;\n",
              "      box-shadow: 0px 1px 3px 1px rgba(0, 0, 0, 0.15);\n",
              "      filter: drop-shadow(0px 1px 2px rgba(0, 0, 0, 0.3));\n",
              "      fill: #FFFFFF;\n",
              "    }\n",
              "  </style>\n",
              "\n",
              "    <script>\n",
              "      const buttonEl =\n",
              "        document.querySelector('#df-71dfa0a5-5a2e-42e4-9465-29e6f4617ced button.colab-df-convert');\n",
              "      buttonEl.style.display =\n",
              "        google.colab.kernel.accessAllowed ? 'block' : 'none';\n",
              "\n",
              "      async function convertToInteractive(key) {\n",
              "        const element = document.querySelector('#df-71dfa0a5-5a2e-42e4-9465-29e6f4617ced');\n",
              "        const dataTable =\n",
              "          await google.colab.kernel.invokeFunction('convertToInteractive',\n",
              "                                                    [key], {});\n",
              "        if (!dataTable) return;\n",
              "\n",
              "        const docLinkHtml = 'Like what you see? Visit the ' +\n",
              "          '<a target=\"_blank\" href=https://colab.research.google.com/notebooks/data_table.ipynb>data table notebook</a>'\n",
              "          + ' to learn more about interactive tables.';\n",
              "        element.innerHTML = '';\n",
              "        dataTable['output_type'] = 'display_data';\n",
              "        await google.colab.output.renderOutput(dataTable, element);\n",
              "        const docLink = document.createElement('div');\n",
              "        docLink.innerHTML = docLinkHtml;\n",
              "        element.appendChild(docLink);\n",
              "      }\n",
              "    </script>\n",
              "  </div>\n",
              "\n",
              "\n",
              "<div id=\"df-7fff417a-e936-4d6b-98b6-59342ef8601e\">\n",
              "  <button class=\"colab-df-quickchart\" onclick=\"quickchart('df-7fff417a-e936-4d6b-98b6-59342ef8601e')\"\n",
              "            title=\"Suggest charts\"\n",
              "            style=\"display:none;\">\n",
              "\n",
              "<svg xmlns=\"http://www.w3.org/2000/svg\" height=\"24px\"viewBox=\"0 0 24 24\"\n",
              "     width=\"24px\">\n",
              "    <g>\n",
              "        <path d=\"M19 3H5c-1.1 0-2 .9-2 2v14c0 1.1.9 2 2 2h14c1.1 0 2-.9 2-2V5c0-1.1-.9-2-2-2zM9 17H7v-7h2v7zm4 0h-2V7h2v10zm4 0h-2v-4h2v4z\"/>\n",
              "    </g>\n",
              "</svg>\n",
              "  </button>\n",
              "\n",
              "<style>\n",
              "  .colab-df-quickchart {\n",
              "      --bg-color: #E8F0FE;\n",
              "      --fill-color: #1967D2;\n",
              "      --hover-bg-color: #E2EBFA;\n",
              "      --hover-fill-color: #174EA6;\n",
              "      --disabled-fill-color: #AAA;\n",
              "      --disabled-bg-color: #DDD;\n",
              "  }\n",
              "\n",
              "  [theme=dark] .colab-df-quickchart {\n",
              "      --bg-color: #3B4455;\n",
              "      --fill-color: #D2E3FC;\n",
              "      --hover-bg-color: #434B5C;\n",
              "      --hover-fill-color: #FFFFFF;\n",
              "      --disabled-bg-color: #3B4455;\n",
              "      --disabled-fill-color: #666;\n",
              "  }\n",
              "\n",
              "  .colab-df-quickchart {\n",
              "    background-color: var(--bg-color);\n",
              "    border: none;\n",
              "    border-radius: 50%;\n",
              "    cursor: pointer;\n",
              "    display: none;\n",
              "    fill: var(--fill-color);\n",
              "    height: 32px;\n",
              "    padding: 0;\n",
              "    width: 32px;\n",
              "  }\n",
              "\n",
              "  .colab-df-quickchart:hover {\n",
              "    background-color: var(--hover-bg-color);\n",
              "    box-shadow: 0 1px 2px rgba(60, 64, 67, 0.3), 0 1px 3px 1px rgba(60, 64, 67, 0.15);\n",
              "    fill: var(--button-hover-fill-color);\n",
              "  }\n",
              "\n",
              "  .colab-df-quickchart-complete:disabled,\n",
              "  .colab-df-quickchart-complete:disabled:hover {\n",
              "    background-color: var(--disabled-bg-color);\n",
              "    fill: var(--disabled-fill-color);\n",
              "    box-shadow: none;\n",
              "  }\n",
              "\n",
              "  .colab-df-spinner {\n",
              "    border: 2px solid var(--fill-color);\n",
              "    border-color: transparent;\n",
              "    border-bottom-color: var(--fill-color);\n",
              "    animation:\n",
              "      spin 1s steps(1) infinite;\n",
              "  }\n",
              "\n",
              "  @keyframes spin {\n",
              "    0% {\n",
              "      border-color: transparent;\n",
              "      border-bottom-color: var(--fill-color);\n",
              "      border-left-color: var(--fill-color);\n",
              "    }\n",
              "    20% {\n",
              "      border-color: transparent;\n",
              "      border-left-color: var(--fill-color);\n",
              "      border-top-color: var(--fill-color);\n",
              "    }\n",
              "    30% {\n",
              "      border-color: transparent;\n",
              "      border-left-color: var(--fill-color);\n",
              "      border-top-color: var(--fill-color);\n",
              "      border-right-color: var(--fill-color);\n",
              "    }\n",
              "    40% {\n",
              "      border-color: transparent;\n",
              "      border-right-color: var(--fill-color);\n",
              "      border-top-color: var(--fill-color);\n",
              "    }\n",
              "    60% {\n",
              "      border-color: transparent;\n",
              "      border-right-color: var(--fill-color);\n",
              "    }\n",
              "    80% {\n",
              "      border-color: transparent;\n",
              "      border-right-color: var(--fill-color);\n",
              "      border-bottom-color: var(--fill-color);\n",
              "    }\n",
              "    90% {\n",
              "      border-color: transparent;\n",
              "      border-bottom-color: var(--fill-color);\n",
              "    }\n",
              "  }\n",
              "</style>\n",
              "\n",
              "  <script>\n",
              "    async function quickchart(key) {\n",
              "      const quickchartButtonEl =\n",
              "        document.querySelector('#' + key + ' button');\n",
              "      quickchartButtonEl.disabled = true;  // To prevent multiple clicks.\n",
              "      quickchartButtonEl.classList.add('colab-df-spinner');\n",
              "      try {\n",
              "        const charts = await google.colab.kernel.invokeFunction(\n",
              "            'suggestCharts', [key], {});\n",
              "      } catch (error) {\n",
              "        console.error('Error during call to suggestCharts:', error);\n",
              "      }\n",
              "      quickchartButtonEl.classList.remove('colab-df-spinner');\n",
              "      quickchartButtonEl.classList.add('colab-df-quickchart-complete');\n",
              "    }\n",
              "    (() => {\n",
              "      let quickchartButtonEl =\n",
              "        document.querySelector('#df-7fff417a-e936-4d6b-98b6-59342ef8601e button');\n",
              "      quickchartButtonEl.style.display =\n",
              "        google.colab.kernel.accessAllowed ? 'block' : 'none';\n",
              "    })();\n",
              "  </script>\n",
              "</div>\n",
              "\n",
              "    </div>\n",
              "  </div>\n"
            ],
            "application/vnd.google.colaboratory.intrinsic+json": {
              "type": "dataframe",
              "variable_name": "df"
            }
          },
          "metadata": {},
          "execution_count": 3
        }
      ]
    },
    {
      "cell_type": "code",
      "source": [
        "print(df.head())"
      ],
      "metadata": {
        "colab": {
          "base_uri": "https://localhost:8080/"
        },
        "id": "tW0HPmiy7d6_",
        "outputId": "876c5a9f-7671-434c-fa43-57dfd61d68d1"
      },
      "execution_count": null,
      "outputs": [
        {
          "output_type": "stream",
          "name": "stdout",
          "text": [
            "  id_comercio|id_bandera|id_sucursal|id_producto|productos_ean|productos_descripcion|productos_cantidad_presentacion|productos_unidad_medida_presentacion|productos_marca|productos_precio_lista|productos_precio_referencia|productos_cantidad_referencia|productos_unidad_medida_referencia|productos_precio_unitario_promo1|productos_leyenda_promo1|productos_precio_unitario_promo2|productos_leyenda_promo2\n",
            "0  10|1|63|7790770601899|1|TOALLA NOSOTRAS CLASIC...                                                                                                                                                                                                                                                                                                                                                             \n",
            "1  10|3|711|7790070318398|1|FIDEOS DEDALITOS LUCC...                                                                                                                                                                                                                                                                                                                                                             \n",
            "2  10|1|44|7622201808860|1|GALLETITAS BOCA DE DAM...                                                                                                                                                                                                                                                                                                                                                             \n",
            "3  10|2|62|7791293050089|1|ACONDICIONADOR LISO EF...                                                                                                                                                                                                                                                                                                                                                             \n",
            "4  10|1|2|7791720018088|1|ANANA EN RODAJAS BULNEZ...                                                                                                                                                                                                                                                                                                                                                             \n"
          ]
        }
      ]
    },
    {
      "cell_type": "code",
      "source": [
        "print(df.info())"
      ],
      "metadata": {
        "colab": {
          "base_uri": "https://localhost:8080/"
        },
        "id": "yGtpF93l7gTd",
        "outputId": "a00712b1-2934-487a-9bae-93ea70252a10"
      },
      "execution_count": null,
      "outputs": [
        {
          "output_type": "stream",
          "name": "stdout",
          "text": [
            "<class 'pandas.core.frame.DataFrame'>\n",
            "RangeIndex: 1175503 entries, 0 to 1175502\n",
            "Data columns (total 1 columns):\n",
            " #   Column                                                                                                                                                                                                                                                                                                                                                                                                           Non-Null Count    Dtype \n",
            "---  ------                                                                                                                                                                                                                                                                                                                                                                                                           --------------    ----- \n",
            " 0   id_comercio|id_bandera|id_sucursal|id_producto|productos_ean|productos_descripcion|productos_cantidad_presentacion|productos_unidad_medida_presentacion|productos_marca|productos_precio_lista|productos_precio_referencia|productos_cantidad_referencia|productos_unidad_medida_referencia|productos_precio_unitario_promo1|productos_leyenda_promo1|productos_precio_unitario_promo2|productos_leyenda_promo2  1175503 non-null  object\n",
            "dtypes: object(1)\n",
            "memory usage: 9.0+ MB\n",
            "None\n"
          ]
        }
      ]
    },
    {
      "cell_type": "code",
      "source": [
        "from sklearn.feature_selection import mutual_info_regression\n",
        "from sklearn.preprocessing import LabelEncoder\n",
        "import numpy as np\n"
      ],
      "metadata": {
        "id": "s4RJWCT07tK-"
      },
      "execution_count": null,
      "outputs": []
    },
    {
      "cell_type": "code",
      "source": [
        "import pandas as pd\n",
        "\n",
        "# Leemos el archivo con separador '|' (pipe)\n",
        "df = pd.read_csv('productos claros.csv', sep='|')\n",
        "\n",
        "# Mostramos las columnas para confirmar que se separaron bien\n",
        "print(\"Columnas del dataset:\")\n",
        "print(df.columns)\n",
        "\n",
        "# Mostramos las primeras filas\n",
        "print(\"\\nPrimeras filas:\")\n",
        "print(df.head())"
      ],
      "metadata": {
        "colab": {
          "base_uri": "https://localhost:8080/"
        },
        "id": "bHXLcDA37vtG",
        "outputId": "e3313f1f-f1e6-4d63-8484-9844df18f3f9"
      },
      "execution_count": null,
      "outputs": [
        {
          "output_type": "stream",
          "name": "stdout",
          "text": [
            "Columnas del dataset:\n",
            "Index(['id_comercio', 'id_bandera', 'id_sucursal', 'id_producto',\n",
            "       'productos_ean', 'productos_descripcion',\n",
            "       'productos_cantidad_presentacion',\n",
            "       'productos_unidad_medida_presentacion', 'productos_marca',\n",
            "       'productos_precio_lista', 'productos_precio_referencia',\n",
            "       'productos_cantidad_referencia', 'productos_unidad_medida_referencia',\n",
            "       'productos_precio_unitario_promo1', 'productos_leyenda_promo1',\n",
            "       'productos_precio_unitario_promo2', 'productos_leyenda_promo2'],\n",
            "      dtype='object')\n",
            "\n",
            "Primeras filas:\n",
            "   id_comercio  id_bandera  id_sucursal    id_producto  productos_ean  \\\n",
            "0           10           1           63  7790770601899              1   \n",
            "1           10           3          711  7790070318398              1   \n",
            "2           10           1           44  7622201808860              1   \n",
            "3           10           2           62  7791293050089              1   \n",
            "4           10           1            2  7791720018088              1   \n",
            "\n",
            "                               productos_descripcion  \\\n",
            "0         TOALLA NOSOTRAS CLASICAS C CALENDULA X 16U   \n",
            "1         FIDEOS DEDALITOS LUCCHETTI BOLSA X 500 GRS   \n",
            "2        GALLETITAS BOCA DE DAMA TERRABUSI X 170 GRS   \n",
            "3  ACONDICIONADOR LISO EFECTO BOTOX TRESEMME X 25...   \n",
            "4             ANANA EN RODAJAS BULNEZ LATA X 825 GRS   \n",
            "\n",
            "   productos_cantidad_presentacion productos_unidad_medida_presentacion  \\\n",
            "0                                1                                  UNI   \n",
            "1                                1                                  UNI   \n",
            "2                                1                                  UNI   \n",
            "3                                1                                  UNI   \n",
            "4                                1                                  UNI   \n",
            "\n",
            "  productos_marca  productos_precio_lista  productos_precio_referencia  \\\n",
            "0        NOSOTRAS                  2689.0                       168.06   \n",
            "1       LUCCHETTI                  1339.0                      2678.00   \n",
            "2       TERRABUSI                   959.0                      5641.18   \n",
            "3        TRESEMME                  3969.0                     15876.00   \n",
            "4          BULNEZ                  3450.0                      4181.82   \n",
            "\n",
            "   productos_cantidad_referencia productos_unidad_medida_referencia  \\\n",
            "0                           16.0                                UNI   \n",
            "1                          500.0                                GRM   \n",
            "2                          170.0                                GRM   \n",
            "3                          250.0                                CM3   \n",
            "4                          825.0                                GRM   \n",
            "\n",
            "   productos_precio_unitario_promo1 productos_leyenda_promo1  \\\n",
            "0                               NaN                      NaN   \n",
            "1                               NaN                      NaN   \n",
            "2                               NaN                      NaN   \n",
            "3                               NaN                      NaN   \n",
            "4                               NaN                      NaN   \n",
            "\n",
            "   productos_precio_unitario_promo2  productos_leyenda_promo2  \n",
            "0                               NaN                       NaN  \n",
            "1                               NaN                       NaN  \n",
            "2                               NaN                       NaN  \n",
            "3                               NaN                       NaN  \n",
            "4                               NaN                       NaN  \n"
          ]
        }
      ]
    },
    {
      "cell_type": "code",
      "source": [
        "from sklearn.preprocessing import LabelEncoder\n",
        "\n",
        "df_corr = df.copy()\n",
        "\n",
        "# Eliminamos filas con valores nulos en el target\n",
        "df_corr = df_corr.dropna(subset=['productos_precio_lista'])\n",
        "\n",
        "# Codificamos todas las columnas categóricas para poder calcular la correlación\n",
        "for col in df_corr.select_dtypes(include='object').columns:\n",
        "    le = LabelEncoder()\n",
        "    df_corr[col] = le.fit_transform(df_corr[col].astype(str))\n",
        "\n",
        "# Calculamos la correlación con el precio de lista\n",
        "correlation = df_corr.corr(numeric_only=True)['productos_precio_lista'].drop('productos_precio_lista')\n",
        "\n",
        "# Mostramos las features más correlacionadas\n",
        "correlation.sort_values(ascending=False)"
      ],
      "metadata": {
        "colab": {
          "base_uri": "https://localhost:8080/",
          "height": 217
        },
        "id": "0ECh75lI8TJ6",
        "outputId": "6d0ec56d-6a21-42a5-c892-b6b754d69972"
      },
      "execution_count": 4,
      "outputs": [
        {
          "output_type": "error",
          "ename": "NameError",
          "evalue": "name 'df' is not defined",
          "traceback": [
            "\u001b[0;31m---------------------------------------------------------------------------\u001b[0m",
            "\u001b[0;31mNameError\u001b[0m                                 Traceback (most recent call last)",
            "\u001b[0;32m<ipython-input-4-2f68515d0ddd>\u001b[0m in \u001b[0;36m<cell line: 0>\u001b[0;34m()\u001b[0m\n\u001b[1;32m      1\u001b[0m \u001b[0;32mfrom\u001b[0m \u001b[0msklearn\u001b[0m\u001b[0;34m.\u001b[0m\u001b[0mpreprocessing\u001b[0m \u001b[0;32mimport\u001b[0m \u001b[0mLabelEncoder\u001b[0m\u001b[0;34m\u001b[0m\u001b[0;34m\u001b[0m\u001b[0m\n\u001b[1;32m      2\u001b[0m \u001b[0;34m\u001b[0m\u001b[0m\n\u001b[0;32m----> 3\u001b[0;31m \u001b[0mdf_corr\u001b[0m \u001b[0;34m=\u001b[0m \u001b[0mdf\u001b[0m\u001b[0;34m.\u001b[0m\u001b[0mcopy\u001b[0m\u001b[0;34m(\u001b[0m\u001b[0;34m)\u001b[0m\u001b[0;34m\u001b[0m\u001b[0;34m\u001b[0m\u001b[0m\n\u001b[0m\u001b[1;32m      4\u001b[0m \u001b[0;34m\u001b[0m\u001b[0m\n\u001b[1;32m      5\u001b[0m \u001b[0;31m# Eliminamos filas con valores nulos en el target\u001b[0m\u001b[0;34m\u001b[0m\u001b[0;34m\u001b[0m\u001b[0m\n",
            "\u001b[0;31mNameError\u001b[0m: name 'df' is not defined"
          ]
        }
      ]
    },
    {
      "cell_type": "code",
      "source": [
        "features = [\n",
        "    'productos_marca',\n",
        "    'productos_cantidad_presentacion',\n",
        "    'productos_unidad_medida_presentacion',\n",
        "    'productos_cantidad_referencia',\n",
        "    'productos_unidad_medida_referencia',\n",
        "    'id_comercio',\n",
        "    'id_bandera',\n",
        "    'id_sucursal'\n",
        "]\n",
        "\n",
        "target = 'productos_precio_lista'\n",
        "\n",
        "# Eliminamos filas con datos faltantes\n",
        "df_reg = df[features + [target]].dropna()"
      ],
      "metadata": {
        "id": "f4ik9SCz8fRH"
      },
      "execution_count": null,
      "outputs": []
    },
    {
      "cell_type": "code",
      "source": [
        "from sklearn.preprocessing import LabelEncoder\n",
        "\n",
        "df_encoded = df_reg.copy()\n",
        "\n",
        "for col in df_encoded.select_dtypes(include='object').columns:\n",
        "    le = LabelEncoder()\n",
        "    df_encoded[col] = le.fit_transform(df_encoded[col].astype(str))"
      ],
      "metadata": {
        "id": "pMme3boG8yG_"
      },
      "execution_count": null,
      "outputs": []
    },
    {
      "cell_type": "markdown",
      "source": [],
      "metadata": {
        "id": "JhVf1x0m9Edt"
      }
    },
    {
      "cell_type": "code",
      "source": [
        "from sklearn.linear_model import LinearRegression\n",
        "\n",
        "X = df_encoded.drop(columns=[target])\n",
        "y = df_encoded[target]\n",
        "\n",
        "model = LinearRegression()\n",
        "model.fit(X, y)\n",
        "\n",
        "# Coeficientes\n",
        "coeficientes = pd.Series(model.coef_, index=X.columns)\n",
        "print(\"📊 Coeficientes del modelo de regresión lineal:\")\n",
        "print(coeficientes.sort_values(ascending=False))"
      ],
      "metadata": {
        "colab": {
          "base_uri": "https://localhost:8080/"
        },
        "id": "YOHCk2pd-Ejd",
        "outputId": "055a0060-ecd3-40b7-8aac-c072cfad58db"
      },
      "execution_count": null,
      "outputs": [
        {
          "output_type": "stream",
          "name": "stdout",
          "text": [
            "📊 Coeficientes del modelo de regresión lineal:\n",
            "productos_unidad_medida_referencia      4.580066e+03\n",
            "productos_unidad_medida_presentacion    4.208597e+03\n",
            "productos_marca                         1.552014e+01\n",
            "productos_cantidad_referencia           3.403449e+00\n",
            "productos_cantidad_presentacion         2.666667e-11\n",
            "id_comercio                            -1.818989e-12\n",
            "id_sucursal                            -1.347360e-01\n",
            "id_bandera                             -6.657718e+03\n",
            "dtype: float64\n"
          ]
        }
      ]
    },
    {
      "cell_type": "code",
      "source": [
        "from sklearn.metrics import mean_squared_error, mean_absolute_error, r2_score\n",
        "import numpy as np"
      ],
      "metadata": {
        "id": "6fFI73DH-VE2"
      },
      "execution_count": 5,
      "outputs": []
    },
    {
      "cell_type": "markdown",
      "source": [
        "Las conclusiones claves son las siguientes:\n",
        "\n",
        "La unidad de medida y la marca del producto son los principales factores que explican el precio.\n",
        "\n",
        "La cadena de supermercado ( id_bandera) también influ_, posiblemente por estrategias comerciales.\n",
        "\n",
        "Algunas variables no aportan valor predictivo (como id_comercioo productos_cantidad_presentacion) y podrían excluirse en futuros modelos.\n",
        "\n"
      ],
      "metadata": {
        "id": "e1TVGtuF-xEr"
      }
    },
    {
      "cell_type": "markdown",
      "source": [],
      "metadata": {
        "id": "csNlNgZq_HMU"
      }
    },
    {
      "cell_type": "markdown",
      "source": [],
      "metadata": {
        "id": "aPPwQQds-8ZL"
      }
    },
    {
      "cell_type": "markdown",
      "source": [
        "El modelo de regresión lineal aplicado al conjunto de datos de SEPA presenta un muy buen rendimiento. Las métricas obtenidas muestran un R² de 0.9961 lo que indica que el modelo logra, lo que indica que el modelo logra explicar casi la totalidad de la variación en los precios. El error promedio de predicción (MAE) es de aproximadamente $8.306 , lo cual es razonable dependiendo del rango de precios en el conjunto de datos. Aunque el RMSE es más alto ($17.119), puede estar influenciado por algunos valores extremos. En conjunto, las métricas muestran que el modelo es adecuado para entender qué variables afectan el precio de los productos."
      ],
      "metadata": {
        "id": "BpZj3JIg-vWm"
      }
    }
  ]
}