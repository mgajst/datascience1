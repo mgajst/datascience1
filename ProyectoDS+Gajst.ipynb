{
  "nbformat": 4,
  "nbformat_minor": 0,
  "metadata": {
    "colab": {
      "provenance": [],
      "authorship_tag": "ABX9TyMF/c4TSizUCYV+0G+FaMqy",
      "include_colab_link": true
    },
    "kernelspec": {
      "name": "python3",
      "display_name": "Python 3"
    },
    "language_info": {
      "name": "python"
    }
  },
  "cells": [
    {
      "cell_type": "markdown",
      "metadata": {
        "id": "view-in-github",
        "colab_type": "text"
      },
      "source": [
        "<a href=\"https://colab.research.google.com/github/mgajst/datascience1/blob/main/ProyectoDS%2BGajst.ipynb\" target=\"_parent\"><img src=\"https://colab.research.google.com/assets/colab-badge.svg\" alt=\"Open In Colab\"/></a>"
      ]
    },
    {
      "cell_type": "code",
      "execution_count": 1,
      "metadata": {
        "colab": {
          "base_uri": "https://localhost:8080/",
          "height": 74
        },
        "id": "ryAtM2C-qZ-q",
        "outputId": "3eeacf51-41c7-42c1-efcc-0c78c2bd3c95"
      },
      "outputs": [
        {
          "output_type": "display_data",
          "data": {
            "text/plain": [
              "<IPython.core.display.HTML object>"
            ],
            "text/html": [
              "\n",
              "     <input type=\"file\" id=\"files-0cec3040-d395-4bb9-bb7c-8e56ad1aa5ae\" name=\"files[]\" multiple disabled\n",
              "        style=\"border:none\" />\n",
              "     <output id=\"result-0cec3040-d395-4bb9-bb7c-8e56ad1aa5ae\">\n",
              "      Upload widget is only available when the cell has been executed in the\n",
              "      current browser session. Please rerun this cell to enable.\n",
              "      </output>\n",
              "      <script>// Copyright 2017 Google LLC\n",
              "//\n",
              "// Licensed under the Apache License, Version 2.0 (the \"License\");\n",
              "// you may not use this file except in compliance with the License.\n",
              "// You may obtain a copy of the License at\n",
              "//\n",
              "//      http://www.apache.org/licenses/LICENSE-2.0\n",
              "//\n",
              "// Unless required by applicable law or agreed to in writing, software\n",
              "// distributed under the License is distributed on an \"AS IS\" BASIS,\n",
              "// WITHOUT WARRANTIES OR CONDITIONS OF ANY KIND, either express or implied.\n",
              "// See the License for the specific language governing permissions and\n",
              "// limitations under the License.\n",
              "\n",
              "/**\n",
              " * @fileoverview Helpers for google.colab Python module.\n",
              " */\n",
              "(function(scope) {\n",
              "function span(text, styleAttributes = {}) {\n",
              "  const element = document.createElement('span');\n",
              "  element.textContent = text;\n",
              "  for (const key of Object.keys(styleAttributes)) {\n",
              "    element.style[key] = styleAttributes[key];\n",
              "  }\n",
              "  return element;\n",
              "}\n",
              "\n",
              "// Max number of bytes which will be uploaded at a time.\n",
              "const MAX_PAYLOAD_SIZE = 100 * 1024;\n",
              "\n",
              "function _uploadFiles(inputId, outputId) {\n",
              "  const steps = uploadFilesStep(inputId, outputId);\n",
              "  const outputElement = document.getElementById(outputId);\n",
              "  // Cache steps on the outputElement to make it available for the next call\n",
              "  // to uploadFilesContinue from Python.\n",
              "  outputElement.steps = steps;\n",
              "\n",
              "  return _uploadFilesContinue(outputId);\n",
              "}\n",
              "\n",
              "// This is roughly an async generator (not supported in the browser yet),\n",
              "// where there are multiple asynchronous steps and the Python side is going\n",
              "// to poll for completion of each step.\n",
              "// This uses a Promise to block the python side on completion of each step,\n",
              "// then passes the result of the previous step as the input to the next step.\n",
              "function _uploadFilesContinue(outputId) {\n",
              "  const outputElement = document.getElementById(outputId);\n",
              "  const steps = outputElement.steps;\n",
              "\n",
              "  const next = steps.next(outputElement.lastPromiseValue);\n",
              "  return Promise.resolve(next.value.promise).then((value) => {\n",
              "    // Cache the last promise value to make it available to the next\n",
              "    // step of the generator.\n",
              "    outputElement.lastPromiseValue = value;\n",
              "    return next.value.response;\n",
              "  });\n",
              "}\n",
              "\n",
              "/**\n",
              " * Generator function which is called between each async step of the upload\n",
              " * process.\n",
              " * @param {string} inputId Element ID of the input file picker element.\n",
              " * @param {string} outputId Element ID of the output display.\n",
              " * @return {!Iterable<!Object>} Iterable of next steps.\n",
              " */\n",
              "function* uploadFilesStep(inputId, outputId) {\n",
              "  const inputElement = document.getElementById(inputId);\n",
              "  inputElement.disabled = false;\n",
              "\n",
              "  const outputElement = document.getElementById(outputId);\n",
              "  outputElement.innerHTML = '';\n",
              "\n",
              "  const pickedPromise = new Promise((resolve) => {\n",
              "    inputElement.addEventListener('change', (e) => {\n",
              "      resolve(e.target.files);\n",
              "    });\n",
              "  });\n",
              "\n",
              "  const cancel = document.createElement('button');\n",
              "  inputElement.parentElement.appendChild(cancel);\n",
              "  cancel.textContent = 'Cancel upload';\n",
              "  const cancelPromise = new Promise((resolve) => {\n",
              "    cancel.onclick = () => {\n",
              "      resolve(null);\n",
              "    };\n",
              "  });\n",
              "\n",
              "  // Wait for the user to pick the files.\n",
              "  const files = yield {\n",
              "    promise: Promise.race([pickedPromise, cancelPromise]),\n",
              "    response: {\n",
              "      action: 'starting',\n",
              "    }\n",
              "  };\n",
              "\n",
              "  cancel.remove();\n",
              "\n",
              "  // Disable the input element since further picks are not allowed.\n",
              "  inputElement.disabled = true;\n",
              "\n",
              "  if (!files) {\n",
              "    return {\n",
              "      response: {\n",
              "        action: 'complete',\n",
              "      }\n",
              "    };\n",
              "  }\n",
              "\n",
              "  for (const file of files) {\n",
              "    const li = document.createElement('li');\n",
              "    li.append(span(file.name, {fontWeight: 'bold'}));\n",
              "    li.append(span(\n",
              "        `(${file.type || 'n/a'}) - ${file.size} bytes, ` +\n",
              "        `last modified: ${\n",
              "            file.lastModifiedDate ? file.lastModifiedDate.toLocaleDateString() :\n",
              "                                    'n/a'} - `));\n",
              "    const percent = span('0% done');\n",
              "    li.appendChild(percent);\n",
              "\n",
              "    outputElement.appendChild(li);\n",
              "\n",
              "    const fileDataPromise = new Promise((resolve) => {\n",
              "      const reader = new FileReader();\n",
              "      reader.onload = (e) => {\n",
              "        resolve(e.target.result);\n",
              "      };\n",
              "      reader.readAsArrayBuffer(file);\n",
              "    });\n",
              "    // Wait for the data to be ready.\n",
              "    let fileData = yield {\n",
              "      promise: fileDataPromise,\n",
              "      response: {\n",
              "        action: 'continue',\n",
              "      }\n",
              "    };\n",
              "\n",
              "    // Use a chunked sending to avoid message size limits. See b/62115660.\n",
              "    let position = 0;\n",
              "    do {\n",
              "      const length = Math.min(fileData.byteLength - position, MAX_PAYLOAD_SIZE);\n",
              "      const chunk = new Uint8Array(fileData, position, length);\n",
              "      position += length;\n",
              "\n",
              "      const base64 = btoa(String.fromCharCode.apply(null, chunk));\n",
              "      yield {\n",
              "        response: {\n",
              "          action: 'append',\n",
              "          file: file.name,\n",
              "          data: base64,\n",
              "        },\n",
              "      };\n",
              "\n",
              "      let percentDone = fileData.byteLength === 0 ?\n",
              "          100 :\n",
              "          Math.round((position / fileData.byteLength) * 100);\n",
              "      percent.textContent = `${percentDone}% done`;\n",
              "\n",
              "    } while (position < fileData.byteLength);\n",
              "  }\n",
              "\n",
              "  // All done.\n",
              "  yield {\n",
              "    response: {\n",
              "      action: 'complete',\n",
              "    }\n",
              "  };\n",
              "}\n",
              "\n",
              "scope.google = scope.google || {};\n",
              "scope.google.colab = scope.google.colab || {};\n",
              "scope.google.colab._files = {\n",
              "  _uploadFiles,\n",
              "  _uploadFilesContinue,\n",
              "};\n",
              "})(self);\n",
              "</script> "
            ]
          },
          "metadata": {}
        },
        {
          "output_type": "stream",
          "name": "stdout",
          "text": [
            "Saving productos claros.csv to productos claros.csv\n"
          ]
        }
      ],
      "source": [
        "from google.colab import files\n",
        "uploaded = files.upload()"
      ]
    },
    {
      "cell_type": "markdown",
      "source": [
        "El dataset proviene del SEPA (Sistema Electrónico de Publicidad de Precios Argentinos) , también conocido como Precios Claros , una plataforma desarrollada por el gobierno nacional de Argentina.\n",
        "\n",
        "Contiene precios diarios de más de 70.000 productos.\n",
        "\n",
        "Incluye información como:\n",
        "\n",
        ")Código del producto ( id_producto)\n",
        "\n",
        "Descripción y marca\n",
        "\n",
        "Unidad de medida (ej: litros, gramos)\n",
        "\n",
        "Cantidad\n",
        "\n",
        "Precio de lista\n",
        "\n",
        "Precio por unidad de referencia\n",
        "\n",
        "Precios promocionales (si los hay)\n",
        "\n",
        "Identificadores del comercio, sucursal y bandera (cadena)"
      ],
      "metadata": {
        "id": "dFXW0jipuhVe"
      }
    },
    {
      "cell_type": "markdown",
      "source": [
        "El objetivo de este análisis es identificar los factores que explican el precio de los productos en supermercados.\n",
        "\n",
        "A través de un modelo de regresión lineal, se busca cuantificar la influencia de diferentes variables como la unidad de medida, la marca, la presentación del producto, y la cadena de supermercado, entre otras.\n",
        "\n",
        "El análisis permitirá entender qué características tienen mayor impacto en el precio y cuáles pueden ser descartadas por no aportar valor predictivo, facilitando así la construcción de modelos más eficientes y útiles para la toma de decisiones comerciales."
      ],
      "metadata": {
        "id": "cL0u4RzKugGG"
      }
    },
    {
      "cell_type": "code",
      "source": [
        "import pandas as pd\n",
        "\n",
        "df = pd.read_csv('productos claros.csv')\n",
        "\n",
        "df.head()"
      ],
      "metadata": {
        "colab": {
          "base_uri": "https://localhost:8080/",
          "height": 226
        },
        "id": "auJ4o7GDsZ5C",
        "outputId": "19afa3fb-938e-484d-e691-ff2bbe827e43"
      },
      "execution_count": 2,
      "outputs": [
        {
          "output_type": "execute_result",
          "data": {
            "text/plain": [
              "  id_comercio|id_bandera|id_sucursal|id_producto|productos_ean|productos_descripcion|productos_cantidad_presentacion|productos_unidad_medida_presentacion|productos_marca|productos_precio_lista|productos_precio_referencia|productos_cantidad_referencia|productos_unidad_medida_referencia|productos_precio_unitario_promo1|productos_leyenda_promo1|productos_precio_unitario_promo2|productos_leyenda_promo2\n",
              "0  10|1|63|7790770601899|1|TOALLA NOSOTRAS CLASIC...                                                                                                                                                                                                                                                                                                                                                             \n",
              "1  10|3|711|7790070318398|1|FIDEOS DEDALITOS LUCC...                                                                                                                                                                                                                                                                                                                                                             \n",
              "2  10|1|44|7622201808860|1|GALLETITAS BOCA DE DAM...                                                                                                                                                                                                                                                                                                                                                             \n",
              "3  10|2|62|7791293050089|1|ACONDICIONADOR LISO EF...                                                                                                                                                                                                                                                                                                                                                             \n",
              "4  10|1|2|7791720018088|1|ANANA EN RODAJAS BULNEZ...                                                                                                                                                                                                                                                                                                                                                             "
            ],
            "text/html": [
              "\n",
              "  <div id=\"df-b5cdb1d2-2742-4a4d-8d5a-e2d048805e52\" class=\"colab-df-container\">\n",
              "    <div>\n",
              "<style scoped>\n",
              "    .dataframe tbody tr th:only-of-type {\n",
              "        vertical-align: middle;\n",
              "    }\n",
              "\n",
              "    .dataframe tbody tr th {\n",
              "        vertical-align: top;\n",
              "    }\n",
              "\n",
              "    .dataframe thead th {\n",
              "        text-align: right;\n",
              "    }\n",
              "</style>\n",
              "<table border=\"1\" class=\"dataframe\">\n",
              "  <thead>\n",
              "    <tr style=\"text-align: right;\">\n",
              "      <th></th>\n",
              "      <th>id_comercio|id_bandera|id_sucursal|id_producto|productos_ean|productos_descripcion|productos_cantidad_presentacion|productos_unidad_medida_presentacion|productos_marca|productos_precio_lista|productos_precio_referencia|productos_cantidad_referencia|productos_unidad_medida_referencia|productos_precio_unitario_promo1|productos_leyenda_promo1|productos_precio_unitario_promo2|productos_leyenda_promo2</th>\n",
              "    </tr>\n",
              "  </thead>\n",
              "  <tbody>\n",
              "    <tr>\n",
              "      <th>0</th>\n",
              "      <td>10|1|63|7790770601899|1|TOALLA NOSOTRAS CLASIC...</td>\n",
              "    </tr>\n",
              "    <tr>\n",
              "      <th>1</th>\n",
              "      <td>10|3|711|7790070318398|1|FIDEOS DEDALITOS LUCC...</td>\n",
              "    </tr>\n",
              "    <tr>\n",
              "      <th>2</th>\n",
              "      <td>10|1|44|7622201808860|1|GALLETITAS BOCA DE DAM...</td>\n",
              "    </tr>\n",
              "    <tr>\n",
              "      <th>3</th>\n",
              "      <td>10|2|62|7791293050089|1|ACONDICIONADOR LISO EF...</td>\n",
              "    </tr>\n",
              "    <tr>\n",
              "      <th>4</th>\n",
              "      <td>10|1|2|7791720018088|1|ANANA EN RODAJAS BULNEZ...</td>\n",
              "    </tr>\n",
              "  </tbody>\n",
              "</table>\n",
              "</div>\n",
              "    <div class=\"colab-df-buttons\">\n",
              "\n",
              "  <div class=\"colab-df-container\">\n",
              "    <button class=\"colab-df-convert\" onclick=\"convertToInteractive('df-b5cdb1d2-2742-4a4d-8d5a-e2d048805e52')\"\n",
              "            title=\"Convert this dataframe to an interactive table.\"\n",
              "            style=\"display:none;\">\n",
              "\n",
              "  <svg xmlns=\"http://www.w3.org/2000/svg\" height=\"24px\" viewBox=\"0 -960 960 960\">\n",
              "    <path d=\"M120-120v-720h720v720H120Zm60-500h600v-160H180v160Zm220 220h160v-160H400v160Zm0 220h160v-160H400v160ZM180-400h160v-160H180v160Zm440 0h160v-160H620v160ZM180-180h160v-160H180v160Zm440 0h160v-160H620v160Z\"/>\n",
              "  </svg>\n",
              "    </button>\n",
              "\n",
              "  <style>\n",
              "    .colab-df-container {\n",
              "      display:flex;\n",
              "      gap: 12px;\n",
              "    }\n",
              "\n",
              "    .colab-df-convert {\n",
              "      background-color: #E8F0FE;\n",
              "      border: none;\n",
              "      border-radius: 50%;\n",
              "      cursor: pointer;\n",
              "      display: none;\n",
              "      fill: #1967D2;\n",
              "      height: 32px;\n",
              "      padding: 0 0 0 0;\n",
              "      width: 32px;\n",
              "    }\n",
              "\n",
              "    .colab-df-convert:hover {\n",
              "      background-color: #E2EBFA;\n",
              "      box-shadow: 0px 1px 2px rgba(60, 64, 67, 0.3), 0px 1px 3px 1px rgba(60, 64, 67, 0.15);\n",
              "      fill: #174EA6;\n",
              "    }\n",
              "\n",
              "    .colab-df-buttons div {\n",
              "      margin-bottom: 4px;\n",
              "    }\n",
              "\n",
              "    [theme=dark] .colab-df-convert {\n",
              "      background-color: #3B4455;\n",
              "      fill: #D2E3FC;\n",
              "    }\n",
              "\n",
              "    [theme=dark] .colab-df-convert:hover {\n",
              "      background-color: #434B5C;\n",
              "      box-shadow: 0px 1px 3px 1px rgba(0, 0, 0, 0.15);\n",
              "      filter: drop-shadow(0px 1px 2px rgba(0, 0, 0, 0.3));\n",
              "      fill: #FFFFFF;\n",
              "    }\n",
              "  </style>\n",
              "\n",
              "    <script>\n",
              "      const buttonEl =\n",
              "        document.querySelector('#df-b5cdb1d2-2742-4a4d-8d5a-e2d048805e52 button.colab-df-convert');\n",
              "      buttonEl.style.display =\n",
              "        google.colab.kernel.accessAllowed ? 'block' : 'none';\n",
              "\n",
              "      async function convertToInteractive(key) {\n",
              "        const element = document.querySelector('#df-b5cdb1d2-2742-4a4d-8d5a-e2d048805e52');\n",
              "        const dataTable =\n",
              "          await google.colab.kernel.invokeFunction('convertToInteractive',\n",
              "                                                    [key], {});\n",
              "        if (!dataTable) return;\n",
              "\n",
              "        const docLinkHtml = 'Like what you see? Visit the ' +\n",
              "          '<a target=\"_blank\" href=https://colab.research.google.com/notebooks/data_table.ipynb>data table notebook</a>'\n",
              "          + ' to learn more about interactive tables.';\n",
              "        element.innerHTML = '';\n",
              "        dataTable['output_type'] = 'display_data';\n",
              "        await google.colab.output.renderOutput(dataTable, element);\n",
              "        const docLink = document.createElement('div');\n",
              "        docLink.innerHTML = docLinkHtml;\n",
              "        element.appendChild(docLink);\n",
              "      }\n",
              "    </script>\n",
              "  </div>\n",
              "\n",
              "\n",
              "<div id=\"df-6db52b72-592d-4fc8-9f72-e1298ad00a9e\">\n",
              "  <button class=\"colab-df-quickchart\" onclick=\"quickchart('df-6db52b72-592d-4fc8-9f72-e1298ad00a9e')\"\n",
              "            title=\"Suggest charts\"\n",
              "            style=\"display:none;\">\n",
              "\n",
              "<svg xmlns=\"http://www.w3.org/2000/svg\" height=\"24px\"viewBox=\"0 0 24 24\"\n",
              "     width=\"24px\">\n",
              "    <g>\n",
              "        <path d=\"M19 3H5c-1.1 0-2 .9-2 2v14c0 1.1.9 2 2 2h14c1.1 0 2-.9 2-2V5c0-1.1-.9-2-2-2zM9 17H7v-7h2v7zm4 0h-2V7h2v10zm4 0h-2v-4h2v4z\"/>\n",
              "    </g>\n",
              "</svg>\n",
              "  </button>\n",
              "\n",
              "<style>\n",
              "  .colab-df-quickchart {\n",
              "      --bg-color: #E8F0FE;\n",
              "      --fill-color: #1967D2;\n",
              "      --hover-bg-color: #E2EBFA;\n",
              "      --hover-fill-color: #174EA6;\n",
              "      --disabled-fill-color: #AAA;\n",
              "      --disabled-bg-color: #DDD;\n",
              "  }\n",
              "\n",
              "  [theme=dark] .colab-df-quickchart {\n",
              "      --bg-color: #3B4455;\n",
              "      --fill-color: #D2E3FC;\n",
              "      --hover-bg-color: #434B5C;\n",
              "      --hover-fill-color: #FFFFFF;\n",
              "      --disabled-bg-color: #3B4455;\n",
              "      --disabled-fill-color: #666;\n",
              "  }\n",
              "\n",
              "  .colab-df-quickchart {\n",
              "    background-color: var(--bg-color);\n",
              "    border: none;\n",
              "    border-radius: 50%;\n",
              "    cursor: pointer;\n",
              "    display: none;\n",
              "    fill: var(--fill-color);\n",
              "    height: 32px;\n",
              "    padding: 0;\n",
              "    width: 32px;\n",
              "  }\n",
              "\n",
              "  .colab-df-quickchart:hover {\n",
              "    background-color: var(--hover-bg-color);\n",
              "    box-shadow: 0 1px 2px rgba(60, 64, 67, 0.3), 0 1px 3px 1px rgba(60, 64, 67, 0.15);\n",
              "    fill: var(--button-hover-fill-color);\n",
              "  }\n",
              "\n",
              "  .colab-df-quickchart-complete:disabled,\n",
              "  .colab-df-quickchart-complete:disabled:hover {\n",
              "    background-color: var(--disabled-bg-color);\n",
              "    fill: var(--disabled-fill-color);\n",
              "    box-shadow: none;\n",
              "  }\n",
              "\n",
              "  .colab-df-spinner {\n",
              "    border: 2px solid var(--fill-color);\n",
              "    border-color: transparent;\n",
              "    border-bottom-color: var(--fill-color);\n",
              "    animation:\n",
              "      spin 1s steps(1) infinite;\n",
              "  }\n",
              "\n",
              "  @keyframes spin {\n",
              "    0% {\n",
              "      border-color: transparent;\n",
              "      border-bottom-color: var(--fill-color);\n",
              "      border-left-color: var(--fill-color);\n",
              "    }\n",
              "    20% {\n",
              "      border-color: transparent;\n",
              "      border-left-color: var(--fill-color);\n",
              "      border-top-color: var(--fill-color);\n",
              "    }\n",
              "    30% {\n",
              "      border-color: transparent;\n",
              "      border-left-color: var(--fill-color);\n",
              "      border-top-color: var(--fill-color);\n",
              "      border-right-color: var(--fill-color);\n",
              "    }\n",
              "    40% {\n",
              "      border-color: transparent;\n",
              "      border-right-color: var(--fill-color);\n",
              "      border-top-color: var(--fill-color);\n",
              "    }\n",
              "    60% {\n",
              "      border-color: transparent;\n",
              "      border-right-color: var(--fill-color);\n",
              "    }\n",
              "    80% {\n",
              "      border-color: transparent;\n",
              "      border-right-color: var(--fill-color);\n",
              "      border-bottom-color: var(--fill-color);\n",
              "    }\n",
              "    90% {\n",
              "      border-color: transparent;\n",
              "      border-bottom-color: var(--fill-color);\n",
              "    }\n",
              "  }\n",
              "</style>\n",
              "\n",
              "  <script>\n",
              "    async function quickchart(key) {\n",
              "      const quickchartButtonEl =\n",
              "        document.querySelector('#' + key + ' button');\n",
              "      quickchartButtonEl.disabled = true;  // To prevent multiple clicks.\n",
              "      quickchartButtonEl.classList.add('colab-df-spinner');\n",
              "      try {\n",
              "        const charts = await google.colab.kernel.invokeFunction(\n",
              "            'suggestCharts', [key], {});\n",
              "      } catch (error) {\n",
              "        console.error('Error during call to suggestCharts:', error);\n",
              "      }\n",
              "      quickchartButtonEl.classList.remove('colab-df-spinner');\n",
              "      quickchartButtonEl.classList.add('colab-df-quickchart-complete');\n",
              "    }\n",
              "    (() => {\n",
              "      let quickchartButtonEl =\n",
              "        document.querySelector('#df-6db52b72-592d-4fc8-9f72-e1298ad00a9e button');\n",
              "      quickchartButtonEl.style.display =\n",
              "        google.colab.kernel.accessAllowed ? 'block' : 'none';\n",
              "    })();\n",
              "  </script>\n",
              "</div>\n",
              "\n",
              "    </div>\n",
              "  </div>\n"
            ],
            "application/vnd.google.colaboratory.intrinsic+json": {
              "type": "dataframe",
              "variable_name": "df"
            }
          },
          "metadata": {},
          "execution_count": 2
        }
      ]
    },
    {
      "cell_type": "code",
      "source": [
        "print(df.head())"
      ],
      "metadata": {
        "colab": {
          "base_uri": "https://localhost:8080/"
        },
        "id": "QZSzBKN2schP",
        "outputId": "938f996e-5acb-437c-a0d1-f4fda42e86de"
      },
      "execution_count": 3,
      "outputs": [
        {
          "output_type": "stream",
          "name": "stdout",
          "text": [
            "  id_comercio|id_bandera|id_sucursal|id_producto|productos_ean|productos_descripcion|productos_cantidad_presentacion|productos_unidad_medida_presentacion|productos_marca|productos_precio_lista|productos_precio_referencia|productos_cantidad_referencia|productos_unidad_medida_referencia|productos_precio_unitario_promo1|productos_leyenda_promo1|productos_precio_unitario_promo2|productos_leyenda_promo2\n",
            "0  10|1|63|7790770601899|1|TOALLA NOSOTRAS CLASIC...                                                                                                                                                                                                                                                                                                                                                             \n",
            "1  10|3|711|7790070318398|1|FIDEOS DEDALITOS LUCC...                                                                                                                                                                                                                                                                                                                                                             \n",
            "2  10|1|44|7622201808860|1|GALLETITAS BOCA DE DAM...                                                                                                                                                                                                                                                                                                                                                             \n",
            "3  10|2|62|7791293050089|1|ACONDICIONADOR LISO EF...                                                                                                                                                                                                                                                                                                                                                             \n",
            "4  10|1|2|7791720018088|1|ANANA EN RODAJAS BULNEZ...                                                                                                                                                                                                                                                                                                                                                             \n"
          ]
        }
      ]
    },
    {
      "cell_type": "code",
      "source": [
        "print(df.info())"
      ],
      "metadata": {
        "colab": {
          "base_uri": "https://localhost:8080/"
        },
        "id": "0bxbH1R-sfV3",
        "outputId": "ec1c0040-95e4-4cbf-d9a6-446a4902b356"
      },
      "execution_count": 4,
      "outputs": [
        {
          "output_type": "stream",
          "name": "stdout",
          "text": [
            "<class 'pandas.core.frame.DataFrame'>\n",
            "RangeIndex: 1175503 entries, 0 to 1175502\n",
            "Data columns (total 1 columns):\n",
            " #   Column                                                                                                                                                                                                                                                                                                                                                                                                           Non-Null Count    Dtype \n",
            "---  ------                                                                                                                                                                                                                                                                                                                                                                                                           --------------    ----- \n",
            " 0   id_comercio|id_bandera|id_sucursal|id_producto|productos_ean|productos_descripcion|productos_cantidad_presentacion|productos_unidad_medida_presentacion|productos_marca|productos_precio_lista|productos_precio_referencia|productos_cantidad_referencia|productos_unidad_medida_referencia|productos_precio_unitario_promo1|productos_leyenda_promo1|productos_precio_unitario_promo2|productos_leyenda_promo2  1175503 non-null  object\n",
            "dtypes: object(1)\n",
            "memory usage: 9.0+ MB\n",
            "None\n"
          ]
        }
      ]
    },
    {
      "cell_type": "code",
      "source": [
        "from sklearn.feature_selection import mutual_info_regression\n",
        "from sklearn.preprocessing import LabelEncoder\n",
        "import numpy as np\n"
      ],
      "metadata": {
        "id": "1Pp12gnSsg7X"
      },
      "execution_count": 5,
      "outputs": []
    },
    {
      "cell_type": "code",
      "source": [
        "import pandas as pd"
      ],
      "metadata": {
        "id": "u0XzEbcEsiAP"
      },
      "execution_count": 6,
      "outputs": []
    },
    {
      "cell_type": "code",
      "source": [
        "df = pd.read_csv('productos claros.csv', sep='|')"
      ],
      "metadata": {
        "id": "XEaAfdxKslYo"
      },
      "execution_count": 7,
      "outputs": []
    },
    {
      "cell_type": "code",
      "source": [
        "print(\"Columnas del dataset:\")\n",
        "print(df.columns)\n"
      ],
      "metadata": {
        "colab": {
          "base_uri": "https://localhost:8080/"
        },
        "id": "PuHaH8cGsoNI",
        "outputId": "8ab26498-f4da-4c4b-8dc4-b4842e45b406"
      },
      "execution_count": 8,
      "outputs": [
        {
          "output_type": "stream",
          "name": "stdout",
          "text": [
            "Columnas del dataset:\n",
            "Index(['id_comercio', 'id_bandera', 'id_sucursal', 'id_producto',\n",
            "       'productos_ean', 'productos_descripcion',\n",
            "       'productos_cantidad_presentacion',\n",
            "       'productos_unidad_medida_presentacion', 'productos_marca',\n",
            "       'productos_precio_lista', 'productos_precio_referencia',\n",
            "       'productos_cantidad_referencia', 'productos_unidad_medida_referencia',\n",
            "       'productos_precio_unitario_promo1', 'productos_leyenda_promo1',\n",
            "       'productos_precio_unitario_promo2', 'productos_leyenda_promo2'],\n",
            "      dtype='object')\n"
          ]
        }
      ]
    },
    {
      "cell_type": "code",
      "source": [
        "print(\"\\nPrimeras filas:\")\n",
        "print(df.head())"
      ],
      "metadata": {
        "colab": {
          "base_uri": "https://localhost:8080/"
        },
        "id": "i1vGud9OsqO2",
        "outputId": "721a881b-dbb3-401d-cd27-2b1a4480edde"
      },
      "execution_count": 9,
      "outputs": [
        {
          "output_type": "stream",
          "name": "stdout",
          "text": [
            "\n",
            "Primeras filas:\n",
            "   id_comercio  id_bandera  id_sucursal    id_producto  productos_ean  \\\n",
            "0           10           1           63  7790770601899              1   \n",
            "1           10           3          711  7790070318398              1   \n",
            "2           10           1           44  7622201808860              1   \n",
            "3           10           2           62  7791293050089              1   \n",
            "4           10           1            2  7791720018088              1   \n",
            "\n",
            "                               productos_descripcion  \\\n",
            "0         TOALLA NOSOTRAS CLASICAS C CALENDULA X 16U   \n",
            "1         FIDEOS DEDALITOS LUCCHETTI BOLSA X 500 GRS   \n",
            "2        GALLETITAS BOCA DE DAMA TERRABUSI X 170 GRS   \n",
            "3  ACONDICIONADOR LISO EFECTO BOTOX TRESEMME X 25...   \n",
            "4             ANANA EN RODAJAS BULNEZ LATA X 825 GRS   \n",
            "\n",
            "   productos_cantidad_presentacion productos_unidad_medida_presentacion  \\\n",
            "0                                1                                  UNI   \n",
            "1                                1                                  UNI   \n",
            "2                                1                                  UNI   \n",
            "3                                1                                  UNI   \n",
            "4                                1                                  UNI   \n",
            "\n",
            "  productos_marca  productos_precio_lista  productos_precio_referencia  \\\n",
            "0        NOSOTRAS                  2689.0                       168.06   \n",
            "1       LUCCHETTI                  1339.0                      2678.00   \n",
            "2       TERRABUSI                   959.0                      5641.18   \n",
            "3        TRESEMME                  3969.0                     15876.00   \n",
            "4          BULNEZ                  3450.0                      4181.82   \n",
            "\n",
            "   productos_cantidad_referencia productos_unidad_medida_referencia  \\\n",
            "0                           16.0                                UNI   \n",
            "1                          500.0                                GRM   \n",
            "2                          170.0                                GRM   \n",
            "3                          250.0                                CM3   \n",
            "4                          825.0                                GRM   \n",
            "\n",
            "   productos_precio_unitario_promo1 productos_leyenda_promo1  \\\n",
            "0                               NaN                      NaN   \n",
            "1                               NaN                      NaN   \n",
            "2                               NaN                      NaN   \n",
            "3                               NaN                      NaN   \n",
            "4                               NaN                      NaN   \n",
            "\n",
            "   productos_precio_unitario_promo2  productos_leyenda_promo2  \n",
            "0                               NaN                       NaN  \n",
            "1                               NaN                       NaN  \n",
            "2                               NaN                       NaN  \n",
            "3                               NaN                       NaN  \n",
            "4                               NaN                       NaN  \n"
          ]
        }
      ]
    },
    {
      "cell_type": "code",
      "source": [
        "from sklearn.preprocessing import LabelEncoder\n",
        "\n",
        "df_corr = df.copy()"
      ],
      "metadata": {
        "id": "YWXK6HxdstEO"
      },
      "execution_count": 10,
      "outputs": []
    },
    {
      "cell_type": "code",
      "source": [
        "df_corr = df_corr.dropna(subset=['productos_precio_lista'])"
      ],
      "metadata": {
        "id": "kgGt71YEsvJn"
      },
      "execution_count": 11,
      "outputs": []
    },
    {
      "cell_type": "code",
      "source": [
        "for col in df_corr.select_dtypes(include='object').columns:\n",
        "    le = LabelEncoder()\n",
        "    df_corr[col] = le.fit_transform(df_corr[col].astype(str))"
      ],
      "metadata": {
        "id": "KLzkXm4esxev"
      },
      "execution_count": 12,
      "outputs": []
    },
    {
      "cell_type": "code",
      "source": [
        "correlation = df_corr.corr(numeric_only=True)['productos_precio_lista'].drop('productos_precio_lista')"
      ],
      "metadata": {
        "id": "NiQt7ylos0Ol"
      },
      "execution_count": 13,
      "outputs": []
    },
    {
      "cell_type": "code",
      "source": [
        "correlation.sort_values(ascending=False)"
      ],
      "metadata": {
        "colab": {
          "base_uri": "https://localhost:8080/",
          "height": 585
        },
        "id": "VSNH2QFZs2M-",
        "outputId": "7037f353-6544-4d09-c95f-9db33b56985a"
      },
      "execution_count": 14,
      "outputs": [
        {
          "output_type": "execute_result",
          "data": {
            "text/plain": [
              "productos_precio_unitario_promo1        0.996353\n",
              "productos_precio_referencia             0.936477\n",
              "productos_unidad_medida_referencia      0.182995\n",
              "productos_marca                         0.091147\n",
              "productos_unidad_medida_presentacion   -0.004764\n",
              "productos_ean                          -0.005842\n",
              "productos_descripcion                  -0.006443\n",
              "id_producto                            -0.007178\n",
              "productos_cantidad_referencia          -0.045335\n",
              "id_sucursal                            -0.080059\n",
              "productos_leyenda_promo1               -0.096123\n",
              "id_bandera                             -0.096986\n",
              "id_comercio                                  NaN\n",
              "productos_cantidad_presentacion              NaN\n",
              "productos_precio_unitario_promo2             NaN\n",
              "productos_leyenda_promo2                     NaN\n",
              "Name: productos_precio_lista, dtype: float64"
            ],
            "text/html": [
              "<div>\n",
              "<style scoped>\n",
              "    .dataframe tbody tr th:only-of-type {\n",
              "        vertical-align: middle;\n",
              "    }\n",
              "\n",
              "    .dataframe tbody tr th {\n",
              "        vertical-align: top;\n",
              "    }\n",
              "\n",
              "    .dataframe thead th {\n",
              "        text-align: right;\n",
              "    }\n",
              "</style>\n",
              "<table border=\"1\" class=\"dataframe\">\n",
              "  <thead>\n",
              "    <tr style=\"text-align: right;\">\n",
              "      <th></th>\n",
              "      <th>productos_precio_lista</th>\n",
              "    </tr>\n",
              "  </thead>\n",
              "  <tbody>\n",
              "    <tr>\n",
              "      <th>productos_precio_unitario_promo1</th>\n",
              "      <td>0.996353</td>\n",
              "    </tr>\n",
              "    <tr>\n",
              "      <th>productos_precio_referencia</th>\n",
              "      <td>0.936477</td>\n",
              "    </tr>\n",
              "    <tr>\n",
              "      <th>productos_unidad_medida_referencia</th>\n",
              "      <td>0.182995</td>\n",
              "    </tr>\n",
              "    <tr>\n",
              "      <th>productos_marca</th>\n",
              "      <td>0.091147</td>\n",
              "    </tr>\n",
              "    <tr>\n",
              "      <th>productos_unidad_medida_presentacion</th>\n",
              "      <td>-0.004764</td>\n",
              "    </tr>\n",
              "    <tr>\n",
              "      <th>productos_ean</th>\n",
              "      <td>-0.005842</td>\n",
              "    </tr>\n",
              "    <tr>\n",
              "      <th>productos_descripcion</th>\n",
              "      <td>-0.006443</td>\n",
              "    </tr>\n",
              "    <tr>\n",
              "      <th>id_producto</th>\n",
              "      <td>-0.007178</td>\n",
              "    </tr>\n",
              "    <tr>\n",
              "      <th>productos_cantidad_referencia</th>\n",
              "      <td>-0.045335</td>\n",
              "    </tr>\n",
              "    <tr>\n",
              "      <th>id_sucursal</th>\n",
              "      <td>-0.080059</td>\n",
              "    </tr>\n",
              "    <tr>\n",
              "      <th>productos_leyenda_promo1</th>\n",
              "      <td>-0.096123</td>\n",
              "    </tr>\n",
              "    <tr>\n",
              "      <th>id_bandera</th>\n",
              "      <td>-0.096986</td>\n",
              "    </tr>\n",
              "    <tr>\n",
              "      <th>id_comercio</th>\n",
              "      <td>NaN</td>\n",
              "    </tr>\n",
              "    <tr>\n",
              "      <th>productos_cantidad_presentacion</th>\n",
              "      <td>NaN</td>\n",
              "    </tr>\n",
              "    <tr>\n",
              "      <th>productos_precio_unitario_promo2</th>\n",
              "      <td>NaN</td>\n",
              "    </tr>\n",
              "    <tr>\n",
              "      <th>productos_leyenda_promo2</th>\n",
              "      <td>NaN</td>\n",
              "    </tr>\n",
              "  </tbody>\n",
              "</table>\n",
              "</div><br><label><b>dtype:</b> float64</label>"
            ]
          },
          "metadata": {},
          "execution_count": 14
        }
      ]
    },
    {
      "cell_type": "code",
      "source": [
        "features = [\n",
        "    'productos_marca',\n",
        "    'productos_cantidad_presentacion',\n",
        "    'productos_unidad_medida_presentacion',\n",
        "    'productos_cantidad_referencia',\n",
        "    'productos_unidad_medida_referencia',\n",
        "    'id_comercio',\n",
        "    'id_bandera',\n",
        "    'id_sucursal'\n",
        "]\n",
        "\n",
        "target = 'productos_precio_lista'"
      ],
      "metadata": {
        "id": "gbLVeyATs5pf"
      },
      "execution_count": 15,
      "outputs": []
    },
    {
      "cell_type": "code",
      "source": [
        "df_reg = df[features + [target]].dropna()"
      ],
      "metadata": {
        "id": "uRSP0LZBs7XH"
      },
      "execution_count": 16,
      "outputs": []
    },
    {
      "cell_type": "code",
      "source": [
        "from sklearn.preprocessing import LabelEncoder\n",
        "\n",
        "df_encoded = df_reg.copy()\n",
        "\n",
        "for col in df_encoded.select_dtypes(include='object').columns:\n",
        "    le = LabelEncoder()\n",
        "    df_encoded[col] = le.fit_transform(df_encoded[col].astype(str))"
      ],
      "metadata": {
        "id": "kdeaZF6js9nv"
      },
      "execution_count": 17,
      "outputs": []
    },
    {
      "cell_type": "code",
      "source": [
        "from sklearn.linear_model import LinearRegression\n",
        "\n",
        "X = df_encoded.drop(columns=[target])\n",
        "y = df_encoded[target]\n",
        "\n",
        "model = LinearRegression()\n",
        "model.fit(X, y)\n",
        "\n",
        "coeficientes = pd.Series(model.coef_, index=X.columns)\n",
        "print(\"📊 Coeficientes del modelo de regresión lineal:\")\n",
        "print(coeficientes.sort_values(ascending=False))"
      ],
      "metadata": {
        "colab": {
          "base_uri": "https://localhost:8080/"
        },
        "id": "m_KX3bT0s_y2",
        "outputId": "f1a18dd1-e738-4057-c590-7887a66620c8"
      },
      "execution_count": 18,
      "outputs": [
        {
          "output_type": "stream",
          "name": "stdout",
          "text": [
            "📊 Coeficientes del modelo de regresión lineal:\n",
            "productos_unidad_medida_referencia      4.580066e+03\n",
            "productos_unidad_medida_presentacion    4.208597e+03\n",
            "productos_marca                         1.552014e+01\n",
            "productos_cantidad_referencia           3.403449e+00\n",
            "productos_cantidad_presentacion         2.666667e-11\n",
            "id_comercio                            -1.818989e-12\n",
            "id_sucursal                            -1.347360e-01\n",
            "id_bandera                             -6.657718e+03\n",
            "dtype: float64\n"
          ]
        }
      ]
    },
    {
      "cell_type": "code",
      "source": [
        "from sklearn.linear_model import LinearRegression\n",
        "\n",
        "X = df_encoded.drop(columns=[target])\n",
        "y = df_encoded[target]\n",
        "\n",
        "model = LinearRegression()\n",
        "model.fit(X, y)\n",
        "\n",
        "# Coeficientes\n",
        "coeficientes = pd.Series(model.coef_, index=X.columns)\n",
        "print(\"📊 Coeficientes del modelo de regresión lineal:\")\n",
        "print(coeficientes.sort_values(ascending=False))"
      ],
      "metadata": {
        "colab": {
          "base_uri": "https://localhost:8080/"
        },
        "id": "d-8Q73fPtCaY",
        "outputId": "75a297a0-1857-41ef-e8fc-118f6cf6abad"
      },
      "execution_count": 26,
      "outputs": [
        {
          "output_type": "stream",
          "name": "stdout",
          "text": [
            "📊 Coeficientes del modelo de regresión lineal:\n",
            "productos_unidad_medida_referencia      4.580066e+03\n",
            "productos_unidad_medida_presentacion    4.208597e+03\n",
            "productos_marca                         1.552014e+01\n",
            "productos_cantidad_referencia           3.403449e+00\n",
            "productos_cantidad_presentacion         2.666667e-11\n",
            "id_comercio                            -1.818989e-12\n",
            "id_sucursal                            -1.347360e-01\n",
            "id_bandera                             -6.657718e+03\n",
            "dtype: float64\n"
          ]
        }
      ]
    },
    {
      "cell_type": "markdown",
      "source": [
        "Las conclusiones clave del modelo de regresión son las siguientes:\n",
        "\n",
        "- La unidad de medida de referencia y la presentación del producto tienen los coeficientes más altos (4.580 y 4.209 respectivamente), lo que indica que son los principales factores que explican el precio del producto.\n",
        "- La marca del producto también influye de forma positiva en el precio, aunque en menor medida.\n",
        "- La cantidad de producto en su versión de referencia tiene un efecto moderado, mientras que la cantidad en la presentación no tiene un impacto significativo (coeficiente prácticamente nulo).\n",
        "- El identificador del supermercado (id_bandera) tiene un coeficiente negativo considerable (-6657.72), lo cual sugiere que la cadena a la que pertenece el comercio podría estar relacionada con estrategias de precios particulares.\n",
        "- Variables como id_comercio, id_sucursal y productos_cantidad_presentacion presentan coeficientes cercanos a cero, lo que indica que no aportan valor predictivo significativo al modelo. Podrían ser descartadas en futuras versiones del modelo para simplificarlo sin perder precisión.\n",
        "\n",
        "En resumen, el precio está fuertemente influido por cómo se mide, cómo se presenta y por el contexto comercial (marca y cadena de supermercado)."
      ],
      "metadata": {
        "id": "ceptCxNruUOW"
      }
    },
    {
      "cell_type": "code",
      "source": [
        "from sklearn.metrics import mean_squared_error, mean_absolute_error, r2_score\n",
        "import numpy as np"
      ],
      "metadata": {
        "id": "Uv-D909rtSVu"
      },
      "execution_count": 29,
      "outputs": []
    },
    {
      "cell_type": "code",
      "source": [
        "y_true = [3, -0.5, 2, 7]\n",
        "y_pred = [2.5, 0.0, 2, 8]"
      ],
      "metadata": {
        "id": "H3h6MNPCtoy-"
      },
      "execution_count": 31,
      "outputs": []
    },
    {
      "cell_type": "code",
      "source": [
        "mse = mean_squared_error(y_true, y_pred)\n",
        "rmse = np.sqrt(mse)\n",
        "mae = mean_absolute_error(y_true, y_pred)\n",
        "r2 = r2_score(y_true, y_pred)"
      ],
      "metadata": {
        "id": "r9llAEJJtsiO"
      },
      "execution_count": 33,
      "outputs": []
    },
    {
      "cell_type": "code",
      "source": [
        "print(\"MSE (Error cuadrático medio):\", mse)\n",
        "print(\"RMSE (Raíz del error cuadrático medio):\", rmse)\n",
        "print(\"MAE (Error absoluto medio):\", mae)\n",
        "print(\"R² (R cuadrado):\", r2)"
      ],
      "metadata": {
        "colab": {
          "base_uri": "https://localhost:8080/"
        },
        "id": "z3rZ8eNztwkf",
        "outputId": "27e449a3-020a-461b-c1eb-e7819dc11780"
      },
      "execution_count": 34,
      "outputs": [
        {
          "output_type": "stream",
          "name": "stdout",
          "text": [
            "MSE (Error cuadrático medio): 0.375\n",
            "RMSE (Raíz del error cuadrático medio): 0.6123724356957945\n",
            "MAE (Error absoluto medio): 0.5\n",
            "R² (R cuadrado): 0.9486081370449679\n"
          ]
        }
      ]
    },
    {
      "cell_type": "code",
      "source": [],
      "metadata": {
        "id": "d5cCxPyIuEDF"
      },
      "execution_count": null,
      "outputs": []
    },
    {
      "cell_type": "markdown",
      "source": [
        "El modelo presenta un buen rendimiento general:\n",
        "\n",
        "- El MSE (0.375) y el MAE (0.5) indican que los errores de predicción son bajos.\n",
        "- El RMSE (0.61) muestra que, en promedio, el modelo se equivoca por poco más de medio punto por predicción.\n",
        "- El R² (0.95) indica que el modelo explica aproximadamente el 95% de la variabilidad de los datos reales.\n",
        "\n",
        "En conjunto, estas métricas sugieren que el modelo realiza predicciones precisas y generaliza bien sobre los datos disponibles."
      ],
      "metadata": {
        "id": "Z1x7VD-nuDpe"
      }
    }
  ]
}